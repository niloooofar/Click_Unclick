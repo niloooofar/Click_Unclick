{
 "cells": [
  {
   "cell_type": "code",
   "execution_count": 1,
   "metadata": {},
   "outputs": [],
   "source": [
    "#in His Name"
   ]
  },
  {
   "cell_type": "markdown",
   "metadata": {},
   "source": [
    "# اضافه کردن کتاب‌خانه‌های مورد نیاز"
   ]
  },
  {
   "cell_type": "markdown",
   "metadata": {},
   "source": [
    "در صورتیکه کتاب‌خانه‌ها را تاکنون نصب نکرده‌اید، به کمک دستورات زیر این کتاب‌خانه‌ها را اضافه نمایید"
   ]
  },
  {
   "cell_type": "code",
   "execution_count": 2,
   "metadata": {},
   "outputs": [],
   "source": [
    "!pip install pandas\n",
    "!pip install matplotlib\n",
    "!pip install numpy\n",
    "!pip install datetime\n",
    "!pip install tqdm\n",
    "!pip install sklearn"
   ]
  },
  {
   "cell_type": "code",
   "execution_count": 3,
   "metadata": {},
   "outputs": [],
   "source": [
    "import pandas as pd\n",
    "import matplotlib.pyplot as plt\n",
    "import numpy as np\n",
    "from datetime import datetime\n",
    "from tqdm import tqdm\n",
    "from sklearn.decomposition import PCA\n",
    "from sklearn.preprocessing import StandardScaler"
   ]
  },
  {
   "cell_type": "markdown",
   "metadata": {},
   "source": [
    "ابتدا فایل\n",
    "`notifications.csv`\n",
    "که همراه با این نوت‌بوک دانلود کرده‌اید را به وسیله‌ی کتابخانه\n",
    "`pandas`\n",
    "می‌خوانیم"
   ]
  },
  {
   "cell_type": "code",
   "execution_count": 4,
   "metadata": {},
   "outputs": [],
   "source": [
    "interactions = pd.read_csv('notifications.csv')"
   ]
  },
  {
   "cell_type": "code",
   "execution_count": 5,
   "metadata": {},
   "outputs": [
    {
     "data": {
      "text/html": [
       "<div>\n",
       "<style scoped>\n",
       "    .dataframe tbody tr th:only-of-type {\n",
       "        vertical-align: middle;\n",
       "    }\n",
       "\n",
       "    .dataframe tbody tr th {\n",
       "        vertical-align: top;\n",
       "    }\n",
       "\n",
       "    .dataframe thead th {\n",
       "        text-align: right;\n",
       "    }\n",
       "</style>\n",
       "<table border=\"1\" class=\"dataframe\">\n",
       "  <thead>\n",
       "    <tr style=\"text-align: right;\">\n",
       "      <th></th>\n",
       "      <th>action</th>\n",
       "      <th>application_id</th>\n",
       "      <th>interaction_time</th>\n",
       "      <th>notification_id</th>\n",
       "      <th>user_id</th>\n",
       "    </tr>\n",
       "  </thead>\n",
       "  <tbody>\n",
       "    <tr>\n",
       "      <th>0</th>\n",
       "      <td>F</td>\n",
       "      <td>1</td>\n",
       "      <td>4489200</td>\n",
       "      <td>79</td>\n",
       "      <td>665</td>\n",
       "    </tr>\n",
       "    <tr>\n",
       "      <th>1</th>\n",
       "      <td>F</td>\n",
       "      <td>1</td>\n",
       "      <td>4489200</td>\n",
       "      <td>79</td>\n",
       "      <td>6280</td>\n",
       "    </tr>\n",
       "    <tr>\n",
       "      <th>2</th>\n",
       "      <td>F</td>\n",
       "      <td>1</td>\n",
       "      <td>4388400</td>\n",
       "      <td>78</td>\n",
       "      <td>14774</td>\n",
       "    </tr>\n",
       "    <tr>\n",
       "      <th>3</th>\n",
       "      <td>F</td>\n",
       "      <td>1</td>\n",
       "      <td>4410000</td>\n",
       "      <td>78</td>\n",
       "      <td>3152</td>\n",
       "    </tr>\n",
       "    <tr>\n",
       "      <th>4</th>\n",
       "      <td>C</td>\n",
       "      <td>1</td>\n",
       "      <td>4410000</td>\n",
       "      <td>72</td>\n",
       "      <td>3633</td>\n",
       "    </tr>\n",
       "    <tr>\n",
       "      <th>...</th>\n",
       "      <td>...</td>\n",
       "      <td>...</td>\n",
       "      <td>...</td>\n",
       "      <td>...</td>\n",
       "      <td>...</td>\n",
       "    </tr>\n",
       "    <tr>\n",
       "      <th>140723</th>\n",
       "      <td>F</td>\n",
       "      <td>0</td>\n",
       "      <td>993600</td>\n",
       "      <td>13</td>\n",
       "      <td>14760</td>\n",
       "    </tr>\n",
       "    <tr>\n",
       "      <th>140724</th>\n",
       "      <td>F</td>\n",
       "      <td>0</td>\n",
       "      <td>928800</td>\n",
       "      <td>13</td>\n",
       "      <td>2096</td>\n",
       "    </tr>\n",
       "    <tr>\n",
       "      <th>140725</th>\n",
       "      <td>F</td>\n",
       "      <td>0</td>\n",
       "      <td>900000</td>\n",
       "      <td>13</td>\n",
       "      <td>11308</td>\n",
       "    </tr>\n",
       "    <tr>\n",
       "      <th>140726</th>\n",
       "      <td>F</td>\n",
       "      <td>0</td>\n",
       "      <td>885600</td>\n",
       "      <td>13</td>\n",
       "      <td>5975</td>\n",
       "    </tr>\n",
       "    <tr>\n",
       "      <th>140727</th>\n",
       "      <td>F</td>\n",
       "      <td>0</td>\n",
       "      <td>907200</td>\n",
       "      <td>13</td>\n",
       "      <td>15272</td>\n",
       "    </tr>\n",
       "  </tbody>\n",
       "</table>\n",
       "<p>140728 rows × 5 columns</p>\n",
       "</div>"
      ],
      "text/plain": [
       "       action  application_id  interaction_time  notification_id  user_id\n",
       "0           F               1           4489200               79      665\n",
       "1           F               1           4489200               79     6280\n",
       "2           F               1           4388400               78    14774\n",
       "3           F               1           4410000               78     3152\n",
       "4           C               1           4410000               72     3633\n",
       "...       ...             ...               ...              ...      ...\n",
       "140723      F               0            993600               13    14760\n",
       "140724      F               0            928800               13     2096\n",
       "140725      F               0            900000               13    11308\n",
       "140726      F               0            885600               13     5975\n",
       "140727      F               0            907200               13    15272\n",
       "\n",
       "[140728 rows x 5 columns]"
      ]
     },
     "execution_count": 5,
     "metadata": {},
     "output_type": "execute_result"
    }
   ],
   "source": [
    "interactions"
   ]
  },
  {
   "cell_type": "markdown",
   "metadata": {},
   "source": [
    "در این مرحله به کمک کتاب‌خانه `datetime` پیش‌پردازش لازم را روی داده انجام داده و ستون های جدیدی به آن اضافه می‌کنید. "
   ]
  },
  {
   "cell_type": "code",
   "execution_count": 9,
   "metadata": {},
   "outputs": [
    {
     "data": {
      "text/plain": [
       "1559340000.0"
      ]
     },
     "execution_count": 9,
     "metadata": {},
     "output_type": "execute_result"
    }
   ],
   "source": [
    "stime = \"01/06/2019\"\n",
    "# time_origin = datetime.strptime(stime, \"%d/%m/%Y\").timestamp()\n",
    "time_origin = datetime.strptime(stime, \"%d/%m/%Y\").timestamp()\n",
    "time_origin"
   ]
  },
  {
   "cell_type": "code",
   "execution_count": 13,
   "metadata": {},
   "outputs": [],
   "source": [
    "interactions['interaction_time_absolute'] = interactions['interaction_time'].map(lambda x : datetime.fromtimestamp(time_origin + int(x)))"
   ]
  },
  {
   "cell_type": "code",
   "execution_count": 57,
   "metadata": {},
   "outputs": [
    {
     "data": {
      "text/html": [
       "<div>\n",
       "<style scoped>\n",
       "    .dataframe tbody tr th:only-of-type {\n",
       "        vertical-align: middle;\n",
       "    }\n",
       "\n",
       "    .dataframe tbody tr th {\n",
       "        vertical-align: top;\n",
       "    }\n",
       "\n",
       "    .dataframe thead th {\n",
       "        text-align: right;\n",
       "    }\n",
       "</style>\n",
       "<table border=\"1\" class=\"dataframe\">\n",
       "  <thead>\n",
       "    <tr style=\"text-align: right;\">\n",
       "      <th></th>\n",
       "      <th>action</th>\n",
       "      <th>application_id</th>\n",
       "      <th>interaction_time</th>\n",
       "      <th>notification_id</th>\n",
       "      <th>user_id</th>\n",
       "      <th>interaction_time_absolute</th>\n",
       "      <th>interaction_hour</th>\n",
       "      <th>interaction_dow</th>\n",
       "      <th>hour_hit_rate</th>\n",
       "    </tr>\n",
       "  </thead>\n",
       "  <tbody>\n",
       "    <tr>\n",
       "      <th>0</th>\n",
       "      <td>F</td>\n",
       "      <td>1</td>\n",
       "      <td>4489200</td>\n",
       "      <td>79</td>\n",
       "      <td>665</td>\n",
       "      <td>2019-07-22 23:00:00</td>\n",
       "      <td>23</td>\n",
       "      <td>0</td>\n",
       "      <td>0.124309</td>\n",
       "    </tr>\n",
       "    <tr>\n",
       "      <th>1</th>\n",
       "      <td>F</td>\n",
       "      <td>1</td>\n",
       "      <td>4489200</td>\n",
       "      <td>79</td>\n",
       "      <td>6280</td>\n",
       "      <td>2019-07-22 23:00:00</td>\n",
       "      <td>23</td>\n",
       "      <td>0</td>\n",
       "      <td>0.124309</td>\n",
       "    </tr>\n",
       "    <tr>\n",
       "      <th>2</th>\n",
       "      <td>F</td>\n",
       "      <td>1</td>\n",
       "      <td>4388400</td>\n",
       "      <td>78</td>\n",
       "      <td>14774</td>\n",
       "      <td>2019-07-21 19:00:00</td>\n",
       "      <td>19</td>\n",
       "      <td>6</td>\n",
       "      <td>0.169532</td>\n",
       "    </tr>\n",
       "    <tr>\n",
       "      <th>3</th>\n",
       "      <td>F</td>\n",
       "      <td>1</td>\n",
       "      <td>4410000</td>\n",
       "      <td>78</td>\n",
       "      <td>3152</td>\n",
       "      <td>2019-07-22 01:00:00</td>\n",
       "      <td>1</td>\n",
       "      <td>0</td>\n",
       "      <td>0.127389</td>\n",
       "    </tr>\n",
       "    <tr>\n",
       "      <th>4</th>\n",
       "      <td>C</td>\n",
       "      <td>1</td>\n",
       "      <td>4410000</td>\n",
       "      <td>72</td>\n",
       "      <td>3633</td>\n",
       "      <td>2019-07-22 01:00:00</td>\n",
       "      <td>1</td>\n",
       "      <td>0</td>\n",
       "      <td>0.127389</td>\n",
       "    </tr>\n",
       "  </tbody>\n",
       "</table>\n",
       "</div>"
      ],
      "text/plain": [
       "  action  application_id  interaction_time  notification_id  user_id  \\\n",
       "0      F               1           4489200               79      665   \n",
       "1      F               1           4489200               79     6280   \n",
       "2      F               1           4388400               78    14774   \n",
       "3      F               1           4410000               78     3152   \n",
       "4      C               1           4410000               72     3633   \n",
       "\n",
       "  interaction_time_absolute  interaction_hour  interaction_dow  hour_hit_rate  \n",
       "0       2019-07-22 23:00:00                23                0       0.124309  \n",
       "1       2019-07-22 23:00:00                23                0       0.124309  \n",
       "2       2019-07-21 19:00:00                19                6       0.169532  \n",
       "3       2019-07-22 01:00:00                 1                0       0.127389  \n",
       "4       2019-07-22 01:00:00                 1                0       0.127389  "
      ]
     },
     "execution_count": 57,
     "metadata": {},
     "output_type": "execute_result"
    }
   ],
   "source": [
    "interactions.head()"
   ]
  },
  {
   "cell_type": "markdown",
   "metadata": {},
   "source": [
    " در این قسمت در تابع نگاشت باید از روی ورودی ساعت آن‌را استخراج کنید "
   ]
  },
  {
   "cell_type": "code",
   "execution_count": 58,
   "metadata": {},
   "outputs": [],
   "source": [
    "interactions['interaction_hour'] = interactions['interaction_time_absolute'].map(lambda x : x.hour)"
   ]
  },
  {
   "cell_type": "markdown",
   "metadata": {},
   "source": [
    " در این قسمت در تابع نگاشت باید از روی ورودی روز هفته آن‌را استخراج کنید \n",
    "حواستان باشد که روز هفته ای را که تابع مربوطه در کتابخانه `datetime` به عنوان خروجی می‌دهد برای هفته‌ای که با   شنبه آغاز می‌شود معتبر نیست :) "
   ]
  },
  {
   "cell_type": "code",
   "execution_count": 59,
   "metadata": {},
   "outputs": [],
   "source": [
    "interactions['interaction_dow'] = interactions['interaction_time_absolute'].map(lambda x : x.weekday())"
   ]
  },
  {
   "cell_type": "markdown",
   "metadata": {},
   "source": [
    "# کار کردن با `interaction_hour` "
   ]
  },
  {
   "cell_type": "markdown",
   "metadata": {},
   "source": [
    " با توابع `groupby` و `agg` می‌توانید داده را بر اساس متغیرهای مختلف گروه‌بندی کرده و روی نتیجه آن توابع مختلفی اعمال نمایید."
   ]
  },
  {
   "cell_type": "code",
   "execution_count": 60,
   "metadata": {},
   "outputs": [
    {
     "data": {
      "text/html": [
       "<div>\n",
       "<style scoped>\n",
       "    .dataframe tbody tr th:only-of-type {\n",
       "        vertical-align: middle;\n",
       "    }\n",
       "\n",
       "    .dataframe tbody tr th {\n",
       "        vertical-align: top;\n",
       "    }\n",
       "\n",
       "    .dataframe thead th {\n",
       "        text-align: right;\n",
       "    }\n",
       "</style>\n",
       "<table border=\"1\" class=\"dataframe\">\n",
       "  <thead>\n",
       "    <tr style=\"text-align: right;\">\n",
       "      <th></th>\n",
       "      <th>action</th>\n",
       "      <th>application_id</th>\n",
       "      <th>interaction_time</th>\n",
       "      <th>notification_id</th>\n",
       "      <th>user_id</th>\n",
       "      <th>interaction_time_absolute</th>\n",
       "      <th>interaction_hour</th>\n",
       "      <th>interaction_dow</th>\n",
       "      <th>hour_hit_rate</th>\n",
       "    </tr>\n",
       "  </thead>\n",
       "  <tbody>\n",
       "    <tr>\n",
       "      <th>0</th>\n",
       "      <td>F</td>\n",
       "      <td>1</td>\n",
       "      <td>4489200</td>\n",
       "      <td>79</td>\n",
       "      <td>665</td>\n",
       "      <td>2019-07-22 23:00:00</td>\n",
       "      <td>23</td>\n",
       "      <td>0</td>\n",
       "      <td>0.124309</td>\n",
       "    </tr>\n",
       "    <tr>\n",
       "      <th>1</th>\n",
       "      <td>F</td>\n",
       "      <td>1</td>\n",
       "      <td>4489200</td>\n",
       "      <td>79</td>\n",
       "      <td>6280</td>\n",
       "      <td>2019-07-22 23:00:00</td>\n",
       "      <td>23</td>\n",
       "      <td>0</td>\n",
       "      <td>0.124309</td>\n",
       "    </tr>\n",
       "    <tr>\n",
       "      <th>2</th>\n",
       "      <td>F</td>\n",
       "      <td>1</td>\n",
       "      <td>4388400</td>\n",
       "      <td>78</td>\n",
       "      <td>14774</td>\n",
       "      <td>2019-07-21 19:00:00</td>\n",
       "      <td>19</td>\n",
       "      <td>6</td>\n",
       "      <td>0.169532</td>\n",
       "    </tr>\n",
       "    <tr>\n",
       "      <th>3</th>\n",
       "      <td>F</td>\n",
       "      <td>1</td>\n",
       "      <td>4410000</td>\n",
       "      <td>78</td>\n",
       "      <td>3152</td>\n",
       "      <td>2019-07-22 01:00:00</td>\n",
       "      <td>1</td>\n",
       "      <td>0</td>\n",
       "      <td>0.127389</td>\n",
       "    </tr>\n",
       "    <tr>\n",
       "      <th>4</th>\n",
       "      <td>C</td>\n",
       "      <td>1</td>\n",
       "      <td>4410000</td>\n",
       "      <td>72</td>\n",
       "      <td>3633</td>\n",
       "      <td>2019-07-22 01:00:00</td>\n",
       "      <td>1</td>\n",
       "      <td>0</td>\n",
       "      <td>0.127389</td>\n",
       "    </tr>\n",
       "  </tbody>\n",
       "</table>\n",
       "</div>"
      ],
      "text/plain": [
       "  action  application_id  interaction_time  notification_id  user_id  \\\n",
       "0      F               1           4489200               79      665   \n",
       "1      F               1           4489200               79     6280   \n",
       "2      F               1           4388400               78    14774   \n",
       "3      F               1           4410000               78     3152   \n",
       "4      C               1           4410000               72     3633   \n",
       "\n",
       "  interaction_time_absolute  interaction_hour  interaction_dow  hour_hit_rate  \n",
       "0       2019-07-22 23:00:00                23                0       0.124309  \n",
       "1       2019-07-22 23:00:00                23                0       0.124309  \n",
       "2       2019-07-21 19:00:00                19                6       0.169532  \n",
       "3       2019-07-22 01:00:00                 1                0       0.127389  \n",
       "4       2019-07-22 01:00:00                 1                0       0.127389  "
      ]
     },
     "execution_count": 60,
     "metadata": {},
     "output_type": "execute_result"
    }
   ],
   "source": [
    "interactions.head()"
   ]
  },
  {
   "cell_type": "code",
   "execution_count": 97,
   "metadata": {},
   "outputs": [
    {
     "data": {
      "text/html": [
       "<div>\n",
       "<style scoped>\n",
       "    .dataframe tbody tr th:only-of-type {\n",
       "        vertical-align: middle;\n",
       "    }\n",
       "\n",
       "    .dataframe tbody tr th {\n",
       "        vertical-align: top;\n",
       "    }\n",
       "\n",
       "    .dataframe thead th {\n",
       "        text-align: right;\n",
       "    }\n",
       "</style>\n",
       "<table border=\"1\" class=\"dataframe\">\n",
       "  <thead>\n",
       "    <tr style=\"text-align: right;\">\n",
       "      <th></th>\n",
       "      <th></th>\n",
       "      <th>action</th>\n",
       "    </tr>\n",
       "    <tr>\n",
       "      <th>action</th>\n",
       "      <th>interaction_hour</th>\n",
       "      <th></th>\n",
       "    </tr>\n",
       "  </thead>\n",
       "  <tbody>\n",
       "    <tr>\n",
       "      <th rowspan=\"24\" valign=\"top\">C</th>\n",
       "      <th>0</th>\n",
       "      <td>52</td>\n",
       "    </tr>\n",
       "    <tr>\n",
       "      <th>1</th>\n",
       "      <td>100</td>\n",
       "    </tr>\n",
       "    <tr>\n",
       "      <th>2</th>\n",
       "      <td>163</td>\n",
       "    </tr>\n",
       "    <tr>\n",
       "      <th>3</th>\n",
       "      <td>173</td>\n",
       "    </tr>\n",
       "    <tr>\n",
       "      <th>4</th>\n",
       "      <td>186</td>\n",
       "    </tr>\n",
       "    <tr>\n",
       "      <th>5</th>\n",
       "      <td>255</td>\n",
       "    </tr>\n",
       "    <tr>\n",
       "      <th>6</th>\n",
       "      <td>696</td>\n",
       "    </tr>\n",
       "    <tr>\n",
       "      <th>7</th>\n",
       "      <td>808</td>\n",
       "    </tr>\n",
       "    <tr>\n",
       "      <th>8</th>\n",
       "      <td>1136</td>\n",
       "    </tr>\n",
       "    <tr>\n",
       "      <th>9</th>\n",
       "      <td>772</td>\n",
       "    </tr>\n",
       "    <tr>\n",
       "      <th>10</th>\n",
       "      <td>945</td>\n",
       "    </tr>\n",
       "    <tr>\n",
       "      <th>11</th>\n",
       "      <td>827</td>\n",
       "    </tr>\n",
       "    <tr>\n",
       "      <th>12</th>\n",
       "      <td>1294</td>\n",
       "    </tr>\n",
       "    <tr>\n",
       "      <th>13</th>\n",
       "      <td>1180</td>\n",
       "    </tr>\n",
       "    <tr>\n",
       "      <th>14</th>\n",
       "      <td>1095</td>\n",
       "    </tr>\n",
       "    <tr>\n",
       "      <th>15</th>\n",
       "      <td>915</td>\n",
       "    </tr>\n",
       "    <tr>\n",
       "      <th>16</th>\n",
       "      <td>1927</td>\n",
       "    </tr>\n",
       "    <tr>\n",
       "      <th>17</th>\n",
       "      <td>1686</td>\n",
       "    </tr>\n",
       "    <tr>\n",
       "      <th>18</th>\n",
       "      <td>1436</td>\n",
       "    </tr>\n",
       "    <tr>\n",
       "      <th>19</th>\n",
       "      <td>1548</td>\n",
       "    </tr>\n",
       "    <tr>\n",
       "      <th>20</th>\n",
       "      <td>931</td>\n",
       "    </tr>\n",
       "    <tr>\n",
       "      <th>21</th>\n",
       "      <td>254</td>\n",
       "    </tr>\n",
       "    <tr>\n",
       "      <th>22</th>\n",
       "      <td>115</td>\n",
       "    </tr>\n",
       "    <tr>\n",
       "      <th>23</th>\n",
       "      <td>45</td>\n",
       "    </tr>\n",
       "    <tr>\n",
       "      <th rowspan=\"24\" valign=\"top\">F</th>\n",
       "      <th>0</th>\n",
       "      <td>383</td>\n",
       "    </tr>\n",
       "    <tr>\n",
       "      <th>1</th>\n",
       "      <td>685</td>\n",
       "    </tr>\n",
       "    <tr>\n",
       "      <th>2</th>\n",
       "      <td>914</td>\n",
       "    </tr>\n",
       "    <tr>\n",
       "      <th>3</th>\n",
       "      <td>1070</td>\n",
       "    </tr>\n",
       "    <tr>\n",
       "      <th>4</th>\n",
       "      <td>1177</td>\n",
       "    </tr>\n",
       "    <tr>\n",
       "      <th>5</th>\n",
       "      <td>1528</td>\n",
       "    </tr>\n",
       "    <tr>\n",
       "      <th>6</th>\n",
       "      <td>4472</td>\n",
       "    </tr>\n",
       "    <tr>\n",
       "      <th>7</th>\n",
       "      <td>4585</td>\n",
       "    </tr>\n",
       "    <tr>\n",
       "      <th>8</th>\n",
       "      <td>6950</td>\n",
       "    </tr>\n",
       "    <tr>\n",
       "      <th>9</th>\n",
       "      <td>4772</td>\n",
       "    </tr>\n",
       "    <tr>\n",
       "      <th>10</th>\n",
       "      <td>7851</td>\n",
       "    </tr>\n",
       "    <tr>\n",
       "      <th>11</th>\n",
       "      <td>6848</td>\n",
       "    </tr>\n",
       "    <tr>\n",
       "      <th>12</th>\n",
       "      <td>10447</td>\n",
       "    </tr>\n",
       "    <tr>\n",
       "      <th>13</th>\n",
       "      <td>9289</td>\n",
       "    </tr>\n",
       "    <tr>\n",
       "      <th>14</th>\n",
       "      <td>9408</td>\n",
       "    </tr>\n",
       "    <tr>\n",
       "      <th>15</th>\n",
       "      <td>8332</td>\n",
       "    </tr>\n",
       "    <tr>\n",
       "      <th>16</th>\n",
       "      <td>11417</td>\n",
       "    </tr>\n",
       "    <tr>\n",
       "      <th>17</th>\n",
       "      <td>9733</td>\n",
       "    </tr>\n",
       "    <tr>\n",
       "      <th>18</th>\n",
       "      <td>7584</td>\n",
       "    </tr>\n",
       "    <tr>\n",
       "      <th>19</th>\n",
       "      <td>7583</td>\n",
       "    </tr>\n",
       "    <tr>\n",
       "      <th>20</th>\n",
       "      <td>4544</td>\n",
       "    </tr>\n",
       "    <tr>\n",
       "      <th>21</th>\n",
       "      <td>1648</td>\n",
       "    </tr>\n",
       "    <tr>\n",
       "      <th>22</th>\n",
       "      <td>652</td>\n",
       "    </tr>\n",
       "    <tr>\n",
       "      <th>23</th>\n",
       "      <td>317</td>\n",
       "    </tr>\n",
       "  </tbody>\n",
       "</table>\n",
       "</div>"
      ],
      "text/plain": [
       "                         action\n",
       "action interaction_hour        \n",
       "C      0                     52\n",
       "       1                    100\n",
       "       2                    163\n",
       "       3                    173\n",
       "       4                    186\n",
       "       5                    255\n",
       "       6                    696\n",
       "       7                    808\n",
       "       8                   1136\n",
       "       9                    772\n",
       "       10                   945\n",
       "       11                   827\n",
       "       12                  1294\n",
       "       13                  1180\n",
       "       14                  1095\n",
       "       15                   915\n",
       "       16                  1927\n",
       "       17                  1686\n",
       "       18                  1436\n",
       "       19                  1548\n",
       "       20                   931\n",
       "       21                   254\n",
       "       22                   115\n",
       "       23                    45\n",
       "F      0                    383\n",
       "       1                    685\n",
       "       2                    914\n",
       "       3                   1070\n",
       "       4                   1177\n",
       "       5                   1528\n",
       "       6                   4472\n",
       "       7                   4585\n",
       "       8                   6950\n",
       "       9                   4772\n",
       "       10                  7851\n",
       "       11                  6848\n",
       "       12                 10447\n",
       "       13                  9289\n",
       "       14                  9408\n",
       "       15                  8332\n",
       "       16                 11417\n",
       "       17                  9733\n",
       "       18                  7584\n",
       "       19                  7583\n",
       "       20                  4544\n",
       "       21                  1648\n",
       "       22                   652\n",
       "       23                   317"
      ]
     },
     "execution_count": 97,
     "metadata": {},
     "output_type": "execute_result"
    }
   ],
   "source": [
    "actions = interactions.groupby(['action', 'interaction_hour']).agg({'action':'count'})\n",
    "actions"
   ]
  },
  {
   "cell_type": "code",
   "execution_count": 98,
   "metadata": {},
   "outputs": [
    {
     "data": {
      "text/plain": [
       "array([  52,  100,  163,  173,  186,  255,  696,  808, 1136,  772,  945,\n",
       "        827, 1294, 1180, 1095,  915, 1927, 1686, 1436, 1548,  931,  254,\n",
       "        115,   45], dtype=int64)"
      ]
     },
     "execution_count": 98,
     "metadata": {},
     "output_type": "execute_result"
    },
    {
     "data": {
      "image/png": "[encoded data removed]",
      "text/plain": [
       "<Figure size 432x288 with 1 Axes>"
      ]
     },
     "metadata": {
      "needs_background": "light"
     },
     "output_type": "display_data"
    }
   ],
   "source": [
    "notifs_clicked = np.array(actions.loc['C']['action'].values)\n",
    "notifs_failed = np.array(actions.loc['F']['action'].values)\n",
    "notifs_count = notifs_clicked + notifs_failed\n",
    "plt.scatter(range(24), notifs_clicked, c='g')\n",
    "plt.scatter(range(24), notifs_failed, c='r')\n",
    "notifs_clicked"
   ]
  },
  {
   "cell_type": "code",
   "execution_count": 99,
   "metadata": {},
   "outputs": [
    {
     "data": {
      "image/png": "[encoded data removed]",
      "text/plain": [
       "<Figure size 432x288 with 1 Axes>"
      ]
     },
     "metadata": {
      "needs_background": "light"
     },
     "output_type": "display_data"
    }
   ],
   "source": [
    "plt.plot(notifs_count, c='b')\n",
    "plt.plot(notifs_clicked, c='g')\n",
    "plt.plot(notifs_failed, c='r')\n",
    "plt.show()"
   ]
  },
  {
   "cell_type": "code",
   "execution_count": 100,
   "metadata": {},
   "outputs": [
    {
     "data": {
      "image/png": "[encoded data removed]",
      "text/plain": [
       "<Figure size 432x288 with 1 Axes>"
      ]
     },
     "metadata": {
      "needs_background": "light"
     },
     "output_type": "display_data"
    }
   ],
   "source": [
    "hit_rate = notifs_clicked / (notifs_clicked + notifs_failed)\n",
    "plt.plot(hit_rate)\n",
    "plt.show()"
   ]
  },
  {
   "cell_type": "markdown",
   "metadata": {},
   "source": [
    "ستونی با نام `hour_hit_rate` به داده اضافه می‌کنید که نشان‌دهنده‌ی درصد موفقیت اعلان‌هایی است که در آن ساعت فرستاده شده‌اند."
   ]
  },
  {
   "cell_type": "code",
   "execution_count": 101,
   "metadata": {},
   "outputs": [],
   "source": [
    "interactions['hour_hit_rate'] = interactions['interaction_hour'].map(lambda x : hit_rate[x])"
   ]
  },
  {
   "cell_type": "markdown",
   "metadata": {},
   "source": [
    "# کار کردن با `interaction_dow` "
   ]
  },
  {
   "cell_type": "markdown",
   "metadata": {},
   "source": [
    " با توابع `groupby` و `agg`  داده را بر اساس متغیرهای `action` و `interaction_dow` گروه‌بندی کرده و تعداد هر دسته را بشمارید."
   ]
  },
  {
   "cell_type": "code",
   "execution_count": 104,
   "metadata": {},
   "outputs": [
    {
     "data": {
      "text/html": [
       "<div>\n",
       "<style scoped>\n",
       "    .dataframe tbody tr th:only-of-type {\n",
       "        vertical-align: middle;\n",
       "    }\n",
       "\n",
       "    .dataframe tbody tr th {\n",
       "        vertical-align: top;\n",
       "    }\n",
       "\n",
       "    .dataframe thead th {\n",
       "        text-align: right;\n",
       "    }\n",
       "</style>\n",
       "<table border=\"1\" class=\"dataframe\">\n",
       "  <thead>\n",
       "    <tr style=\"text-align: right;\">\n",
       "      <th></th>\n",
       "      <th></th>\n",
       "      <th>action</th>\n",
       "    </tr>\n",
       "    <tr>\n",
       "      <th>action</th>\n",
       "      <th>interaction_dow</th>\n",
       "      <th></th>\n",
       "    </tr>\n",
       "  </thead>\n",
       "  <tbody>\n",
       "    <tr>\n",
       "      <th rowspan=\"7\" valign=\"top\">C</th>\n",
       "      <th>0</th>\n",
       "      <td>1320</td>\n",
       "    </tr>\n",
       "    <tr>\n",
       "      <th>1</th>\n",
       "      <td>2605</td>\n",
       "    </tr>\n",
       "    <tr>\n",
       "      <th>2</th>\n",
       "      <td>1590</td>\n",
       "    </tr>\n",
       "    <tr>\n",
       "      <th>3</th>\n",
       "      <td>2014</td>\n",
       "    </tr>\n",
       "    <tr>\n",
       "      <th>4</th>\n",
       "      <td>3987</td>\n",
       "    </tr>\n",
       "    <tr>\n",
       "      <th>5</th>\n",
       "      <td>2804</td>\n",
       "    </tr>\n",
       "    <tr>\n",
       "      <th>6</th>\n",
       "      <td>4219</td>\n",
       "    </tr>\n",
       "    <tr>\n",
       "      <th rowspan=\"7\" valign=\"top\">F</th>\n",
       "      <th>0</th>\n",
       "      <td>7136</td>\n",
       "    </tr>\n",
       "    <tr>\n",
       "      <th>1</th>\n",
       "      <td>20804</td>\n",
       "    </tr>\n",
       "    <tr>\n",
       "      <th>2</th>\n",
       "      <td>11599</td>\n",
       "    </tr>\n",
       "    <tr>\n",
       "      <th>3</th>\n",
       "      <td>14320</td>\n",
       "    </tr>\n",
       "    <tr>\n",
       "      <th>4</th>\n",
       "      <td>19744</td>\n",
       "    </tr>\n",
       "    <tr>\n",
       "      <th>5</th>\n",
       "      <td>21049</td>\n",
       "    </tr>\n",
       "    <tr>\n",
       "      <th>6</th>\n",
       "      <td>27537</td>\n",
       "    </tr>\n",
       "  </tbody>\n",
       "</table>\n",
       "</div>"
      ],
      "text/plain": [
       "                        action\n",
       "action interaction_dow        \n",
       "C      0                  1320\n",
       "       1                  2605\n",
       "       2                  1590\n",
       "       3                  2014\n",
       "       4                  3987\n",
       "       5                  2804\n",
       "       6                  4219\n",
       "F      0                  7136\n",
       "       1                 20804\n",
       "       2                 11599\n",
       "       3                 14320\n",
       "       4                 19744\n",
       "       5                 21049\n",
       "       6                 27537"
      ]
     },
     "execution_count": 104,
     "metadata": {},
     "output_type": "execute_result"
    }
   ],
   "source": [
    "# actions = interactions.groupby([\"action\", \"interaction_dow\"]).action.count()\n",
    "actions = interactions.groupby([\"action\", \"interaction_dow\"]).agg({\"action\" : \"count\"})\n",
    "actions"
   ]
  },
  {
   "cell_type": "markdown",
   "metadata": {},
   "source": [
    "مانند قسمت قبل اعلان‌های موفق و ناموفق را برای هر روز هفته استخراج کرده و نمودارهای مربوطه را رسم نمایید."
   ]
  },
  {
   "cell_type": "code",
   "execution_count": 110,
   "metadata": {},
   "outputs": [
    {
     "data": {
      "text/plain": [
       "<matplotlib.collections.PathCollection at 0x13d8fa1b9d0>"
      ]
     },
     "execution_count": 110,
     "metadata": {},
     "output_type": "execute_result"
    },
    {
     "data": {
      "image/png": "[encoded data removed]",
      "text/plain": [
       "<Figure size 432x288 with 1 Axes>"
      ]
     },
     "metadata": {
      "needs_background": "light"
     },
     "output_type": "display_data"
    }
   ],
   "source": [
    "notifs_clicked = np.array(actions.loc[\"C\"][\"action\"].values)\n",
    "notifs_failed = np.array(actions.loc[\"F\"][\"action\"].values)\n",
    "notifs_count = notifs_clicked + notifs_failed\n",
    "plt.scatter(range(7), notifs_clicked, c = \"g\")\n",
    "plt.scatter(range(7), notifs_failed , c = \"r\")"
   ]
  },
  {
   "cell_type": "code",
   "execution_count": 111,
   "metadata": {},
   "outputs": [
    {
     "data": {
      "image/png": "[encoded data removed]",
      "text/plain": [
       "<Figure size 432x288 with 1 Axes>"
      ]
     },
     "metadata": {
      "needs_background": "light"
     },
     "output_type": "display_data"
    }
   ],
   "source": [
    "plt.plot(notifs_count, 'b')\n",
    "plt.plot(notifs_clicked, c='g')\n",
    "plt.plot(notifs_failed, c='r')\n",
    "plt.show()"
   ]
  },
  {
   "cell_type": "code",
   "execution_count": 112,
   "metadata": {},
   "outputs": [
    {
     "data": {
      "image/png": "[encoded data removed]",
      "text/plain": [
       "<Figure size 432x288 with 1 Axes>"
      ]
     },
     "metadata": {
      "needs_background": "light"
     },
     "output_type": "display_data"
    }
   ],
   "source": [
    "hit_rate = notifs_clicked / (notifs_clicked + notifs_failed)\n",
    "plt.plot(hit_rate)\n",
    "plt.show()"
   ]
  },
  {
   "cell_type": "markdown",
   "metadata": {},
   "source": [
    "ستونی با نام `dow_hit_rate` به داده اضافه می‌کنید که نشان‌دهنده‌ی درصد موفقیت اعلان‌هایی است که در آن روز از هفته فرستاده شده‌اند."
   ]
  },
  {
   "cell_type": "code",
   "execution_count": 113,
   "metadata": {},
   "outputs": [],
   "source": [
    "interactions['dow_hit_rate'] = interactions['interaction_dow'].map(lambda x : hit_rate[x])"
   ]
  },
  {
   "cell_type": "markdown",
   "metadata": {},
   "source": [
    "# کار کردن با `application_id` "
   ]
  },
  {
   "cell_type": "markdown",
   "metadata": {},
   "source": [
    " با توابع `groupby` و `agg`  داده را بر اساس متغیرهای `action` و `application_id` گروه‌بندی کرده و تعداد هر دسته را بشمارید."
   ]
  },
  {
   "cell_type": "code",
   "execution_count": 114,
   "metadata": {},
   "outputs": [],
   "source": [
    "actions = interactions.groupby(['action', 'application_id']).agg({'action':'count'})"
   ]
  },
  {
   "cell_type": "code",
   "execution_count": 115,
   "metadata": {},
   "outputs": [],
   "source": [
    "notifs_clicked = np.array(actions.loc['C']['action'].values)\n",
    "notifs_failed = np.array(actions.loc['F']['action'].values)\n",
    "notifs_count = notifs_clicked + notifs_failed"
   ]
  },
  {
   "cell_type": "code",
   "execution_count": 116,
   "metadata": {},
   "outputs": [],
   "source": [
    "hit_rate = notifs_clicked / (notifs_clicked + notifs_failed)"
   ]
  },
  {
   "cell_type": "markdown",
   "metadata": {},
   "source": [
    "ستونی با نام `app_id_hit_rate` به داده اضافه می‌کنید که نشان‌دهنده‌ی درصد موفقیت اعلان‌هایی است که از طرف آن برنامه فرستاده شده‌اند."
   ]
  },
  {
   "cell_type": "code",
   "execution_count": 117,
   "metadata": {},
   "outputs": [],
   "source": [
    "interactions['app_id_hit_rate'] = interactions['application_id'].map(lambda x : hit_rate[x])"
   ]
  },
  {
   "cell_type": "markdown",
   "metadata": {},
   "source": [
    "# محاسبه درصد موفقیت اعلان‌هایی که به هر کاربر فرستاده شده‌اند"
   ]
  },
  {
   "cell_type": "markdown",
   "metadata": {},
   "source": [
    "به کمک اعمال تابع `numpy.unique` روی `interactions['user_id']`، .اعضای آن‌را یکتا می‌کنیم "
   ]
  },
  {
   "cell_type": "code",
   "execution_count": 119,
   "metadata": {},
   "outputs": [],
   "source": [
    "user_ids = np.unique(interactions['user_id'])"
   ]
  },
  {
   "cell_type": "markdown",
   "metadata": {},
   "source": [
    "تابع `get_user_id_hit_rate` شناسه کاربر را به عنوان ورودی دریافت کرده و درصد موفقیت اعلان‌هایی که به این کاربر فرستاده شده را به عنوان خروجی باز می‌گرداند.\n",
    "مثلا اگر کاربری با شناسه کاربری `user_id` صد اعلان دریافت کرده و روی پنجاه تا کلیک کرده است، این تابع عدد `0.5`را به عنوان خروجی باز می‌گرداند."
   ]
  },
  {
   "cell_type": "code",
   "execution_count": 126,
   "metadata": {},
   "outputs": [],
   "source": [
    "def get_user_id_hit_rate(user_id):\n",
    "    df = interactions[interactions.user_id == user_id]\n",
    "    clicked = len(df[df.action == \"F\"])\n",
    "    failed = len(df[df.action == \"C\"])\n",
    "    return clicked / ( clicked + failed)"
   ]
  },
  {
   "cell_type": "markdown",
   "metadata": {},
   "source": [
    "کتاب‌خانه `tqdm` برای نشان دادن درصد پیشرفت حلقه به کار می‌رود."
   ]
  },
  {
   "cell_type": "code",
   "execution_count": 127,
   "metadata": {
    "scrolled": true
   },
   "outputs": [
    {
     "name": "stderr",
     "output_type": "stream",
     "text": [
      "100%|██████████| 14233/14233 [00:50<00:00, 284.06it/s]\n"
     ]
    }
   ],
   "source": [
    "user_id_hit_rate = {}\n",
    "for user_id in tqdm(user_ids):\n",
    "    user_id_hit_rate[user_id] = get_user_id_hit_rate(user_id)"
   ]
  },
  {
   "cell_type": "markdown",
   "metadata": {},
   "source": [
    "ستونی با نام `user_id_hit_rate` به داده اضافه می‌کنید که نشان‌دهنده‌ی درصد موفقیت اعلان‌هایی است که برای کاربر این اعلان، فرستاده شده است."
   ]
  },
  {
   "cell_type": "code",
   "execution_count": 128,
   "metadata": {},
   "outputs": [],
   "source": [
    "interactions['user_id_hit_rate'] = interactions['user_id'].map(lambda user_id : user_id_hit_rate[user_id])"
   ]
  },
  {
   "cell_type": "code",
   "execution_count": 129,
   "metadata": {},
   "outputs": [
    {
     "data": {
      "text/html": [
       "<div>\n",
       "<style scoped>\n",
       "    .dataframe tbody tr th:only-of-type {\n",
       "        vertical-align: middle;\n",
       "    }\n",
       "\n",
       "    .dataframe tbody tr th {\n",
       "        vertical-align: top;\n",
       "    }\n",
       "\n",
       "    .dataframe thead th {\n",
       "        text-align: right;\n",
       "    }\n",
       "</style>\n",
       "<table border=\"1\" class=\"dataframe\">\n",
       "  <thead>\n",
       "    <tr style=\"text-align: right;\">\n",
       "      <th></th>\n",
       "      <th>action</th>\n",
       "      <th>application_id</th>\n",
       "      <th>interaction_time</th>\n",
       "      <th>notification_id</th>\n",
       "      <th>user_id</th>\n",
       "      <th>interaction_time_absolute</th>\n",
       "      <th>interaction_hour</th>\n",
       "      <th>interaction_dow</th>\n",
       "      <th>hour_hit_rate</th>\n",
       "      <th>dow_hit_rate</th>\n",
       "      <th>app_id_hit_rate</th>\n",
       "      <th>user_id_hit_rate</th>\n",
       "    </tr>\n",
       "  </thead>\n",
       "  <tbody>\n",
       "    <tr>\n",
       "      <th>0</th>\n",
       "      <td>F</td>\n",
       "      <td>1</td>\n",
       "      <td>4489200</td>\n",
       "      <td>79</td>\n",
       "      <td>665</td>\n",
       "      <td>2019-07-22 23:00:00</td>\n",
       "      <td>23</td>\n",
       "      <td>0</td>\n",
       "      <td>0.124309</td>\n",
       "      <td>0.156102</td>\n",
       "      <td>0.185299</td>\n",
       "      <td>1.000000</td>\n",
       "    </tr>\n",
       "    <tr>\n",
       "      <th>1</th>\n",
       "      <td>F</td>\n",
       "      <td>1</td>\n",
       "      <td>4489200</td>\n",
       "      <td>79</td>\n",
       "      <td>6280</td>\n",
       "      <td>2019-07-22 23:00:00</td>\n",
       "      <td>23</td>\n",
       "      <td>0</td>\n",
       "      <td>0.124309</td>\n",
       "      <td>0.156102</td>\n",
       "      <td>0.185299</td>\n",
       "      <td>0.942308</td>\n",
       "    </tr>\n",
       "    <tr>\n",
       "      <th>2</th>\n",
       "      <td>F</td>\n",
       "      <td>1</td>\n",
       "      <td>4388400</td>\n",
       "      <td>78</td>\n",
       "      <td>14774</td>\n",
       "      <td>2019-07-21 19:00:00</td>\n",
       "      <td>19</td>\n",
       "      <td>6</td>\n",
       "      <td>0.169532</td>\n",
       "      <td>0.132857</td>\n",
       "      <td>0.185299</td>\n",
       "      <td>0.925926</td>\n",
       "    </tr>\n",
       "    <tr>\n",
       "      <th>3</th>\n",
       "      <td>F</td>\n",
       "      <td>1</td>\n",
       "      <td>4410000</td>\n",
       "      <td>78</td>\n",
       "      <td>3152</td>\n",
       "      <td>2019-07-22 01:00:00</td>\n",
       "      <td>1</td>\n",
       "      <td>0</td>\n",
       "      <td>0.127389</td>\n",
       "      <td>0.156102</td>\n",
       "      <td>0.185299</td>\n",
       "      <td>1.000000</td>\n",
       "    </tr>\n",
       "    <tr>\n",
       "      <th>4</th>\n",
       "      <td>C</td>\n",
       "      <td>1</td>\n",
       "      <td>4410000</td>\n",
       "      <td>72</td>\n",
       "      <td>3633</td>\n",
       "      <td>2019-07-22 01:00:00</td>\n",
       "      <td>1</td>\n",
       "      <td>0</td>\n",
       "      <td>0.127389</td>\n",
       "      <td>0.156102</td>\n",
       "      <td>0.185299</td>\n",
       "      <td>0.702128</td>\n",
       "    </tr>\n",
       "  </tbody>\n",
       "</table>\n",
       "</div>"
      ],
      "text/plain": [
       "  action  application_id  interaction_time  notification_id  user_id  \\\n",
       "0      F               1           4489200               79      665   \n",
       "1      F               1           4489200               79     6280   \n",
       "2      F               1           4388400               78    14774   \n",
       "3      F               1           4410000               78     3152   \n",
       "4      C               1           4410000               72     3633   \n",
       "\n",
       "  interaction_time_absolute  interaction_hour  interaction_dow  hour_hit_rate  \\\n",
       "0       2019-07-22 23:00:00                23                0       0.124309   \n",
       "1       2019-07-22 23:00:00                23                0       0.124309   \n",
       "2       2019-07-21 19:00:00                19                6       0.169532   \n",
       "3       2019-07-22 01:00:00                 1                0       0.127389   \n",
       "4       2019-07-22 01:00:00                 1                0       0.127389   \n",
       "\n",
       "   dow_hit_rate  app_id_hit_rate  user_id_hit_rate  \n",
       "0      0.156102         0.185299          1.000000  \n",
       "1      0.156102         0.185299          0.942308  \n",
       "2      0.132857         0.185299          0.925926  \n",
       "3      0.156102         0.185299          1.000000  \n",
       "4      0.156102         0.185299          0.702128  "
      ]
     },
     "execution_count": 129,
     "metadata": {},
     "output_type": "execute_result"
    }
   ],
   "source": [
    "interactions.head()"
   ]
  },
  {
   "cell_type": "markdown",
   "metadata": {},
   "source": [
    "# کاهش بعد"
   ]
  },
  {
   "cell_type": "code",
   "execution_count": 130,
   "metadata": {},
   "outputs": [],
   "source": [
    "x = interactions[['hour_hit_rate', 'dow_hit_rate', 'app_id_hit_rate', 'user_id_hit_rate']]"
   ]
  },
  {
   "cell_type": "markdown",
   "metadata": {},
   "source": [
    "ویژگی `action` را به کمک تابع `lambda` از فضای C, F به فضای صفر و یک بنگارید.\n",
    "یعنی\n",
    "\n",
    "- C -> 1\n",
    "- F -> 0"
   ]
  },
  {
   "cell_type": "code",
   "execution_count": 134,
   "metadata": {},
   "outputs": [],
   "source": [
    "y = interactions['action'].map(lambda x : 1 if x==\"C\" else 0)"
   ]
  },
  {
   "cell_type": "markdown",
   "metadata": {},
   "source": [
    "ابتدا به کمک تابع `StandardScaler` ورودی را normal کرده و سپس به کمک تابع `PCA` آن‌را به دو متغیر، کاهش بعد دهید.  "
   ]
  },
  {
   "cell_type": "markdown",
   "metadata": {},
   "source": [
    "نکته مهم:\n",
    "\n",
    "این دو ورودی تابع `PCA` را با این مقادیر تنظیم کنید.\n",
    "```python \n",
    "svd_solver = 'full'\n",
    "random_state = 0\n",
    "```"
   ]
  },
  {
   "cell_type": "code",
   "execution_count": 135,
   "metadata": {},
   "outputs": [],
   "source": [
    "x_std = StandardScaler().fit_transform(x)\n",
    "pca = PCA(svd_solver = 'full', random_state = 0, n_components=2)\n",
    "x_pca = pca.fit_transform(x_std)"
   ]
  },
  {
   "cell_type": "markdown",
   "metadata": {},
   "source": [
    "حال با رسم نمودار مشاهده کنید که فرایند طی شده چقدر در جداسازی دو دسته از داده موفق بوده است. در ادامه دوره می‌توانید با روش‌های مختلف دسته‌بندی، داده را دسته‌بندی کنید:)"
   ]
  },
  {
   "cell_type": "code",
   "execution_count": 136,
   "metadata": {},
   "outputs": [
    {
     "data": {
      "text/plain": [
       "<matplotlib.collections.PathCollection at 0x13d8f4e8640>"
      ]
     },
     "execution_count": 136,
     "metadata": {},
     "output_type": "execute_result"
    },
    {
     "data": {
      "image/png": "[encoded data removed]",
      "text/plain": [
       "<Figure size 432x288 with 1 Axes>"
      ]
     },
     "metadata": {
      "needs_background": "light"
     },
     "output_type": "display_data"
    }
   ],
   "source": [
    "plt.scatter(x_pca[:,0], x_pca[:,1], c=y)"
   ]
  },
  {
   "cell_type": "markdown",
   "metadata": {},
   "source": [
    "با این دستور `x_pca` را ذخیره کنید تا با ارزیابی آن از این مرحله عبور کنید."
   ]
  },
  {
   "cell_type": "code",
   "execution_count": 137,
   "metadata": {},
   "outputs": [],
   "source": [
    "np.save('x_pca.npy', x_pca)"
   ]
  },
  {
   "cell_type": "code",
   "execution_count": null,
   "metadata": {},
   "outputs": [],
   "source": []
  }
 ],
 "metadata": {
  "kernelspec": {
   "display_name": "Python 3",
   "language": "python",
   "name": "python3"
  },
  "language_info": {
   "codemirror_mode": {
    "name": "ipython",
    "version": 3
   },
   "file_extension": ".py",
   "mimetype": "text/x-python",
   "name": "python",
   "nbconvert_exporter": "python",
   "pygments_lexer": "ipython3",
   "version": "3.9.1"
  }
 },
 "nbformat": 4,
 "nbformat_minor": 4
}
